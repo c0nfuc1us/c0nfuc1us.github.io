{
 "cells": [
  {
   "cell_type": "raw",
   "id": "826139f8-ca06-49eb-b5fa-fd935525e3e2",
   "metadata": {},
   "source": [
    "---\n",
    "layout: article\n",
    "title: Expectations\n",
    "custom_css: article.css\n",
    "include_mathjax: false\n",
    "---"
   ]
  },
  {
   "cell_type": "markdown",
   "id": "cf2c5628-5530-4a06-bbdf-5ed87a9c0c93",
   "metadata": {},
   "source": [
    "## Motivation\n",
    "The purpose of this *article* is to clearly define what anyone I work with (e.g. *potential clients*) can expect from the provided services, and what I *expect* from them. After reading this article, there should be **no doubt** what are the *boundaries* and *expectations* for both parties."
   ]
  },
  {
   "cell_type": "markdown",
   "id": "26112453-1661-4270-9bf8-4a239376a47d",
   "metadata": {},
   "source": [
    "## Strategy NOT Therapy\n",
    "As a **strategic dating consultant** my job is to help people who are **ready** to solve their problems, figure out what are the *optimal* **strategies** and corresponding **tactics** to their *\"dating dilemma.\"* This is very very different from *therapy* and what **therapists** do. If it helps, you can think of me more as the *\"father\"* and the *therapist* more as the *\"mother\"*. You go to the mother to feel *safe*, *secure*, and *loved*. You go to the father when you want to actually learn how to **deal with reality** and the problems you will face.\n",
    "\n",
    "Needless to say, if what you're looking for is *an emotional outlet* or any kind of *emotional support* you **will not** find that here: **do not contact**."
   ]
  },
  {
   "cell_type": "markdown",
   "id": "e3107565-7bb1-4907-8c2f-fbe27cbcabb7",
   "metadata": {},
   "source": [
    "## Professional Boundaries\n",
    "As your **strategic dating consultant** I am not here to cultivate a *personal relationship* with you. By that, I mean I strictly maintain a **professional** relationship with you at **all times**. While I do want you to succeed in your *romantic endeavors*, and I genuinely wish the best for you, I cannot and will not deviate from our **strictly professional** relationship. You should remain *professional* at all times. This is a boundary that can **never** be crossed. As an example of what would be **unprofessional**: "
   ]
  },
  {
   "cell_type": "code",
   "execution_count": null,
   "id": "fe3c3cb6-63c8-4aa4-9c20-712677bde7fe",
   "metadata": {
    "editable": true,
    "execution": {
     "iopub.execute_input": "2024-09-22T23:35:48.432100Z",
     "iopub.status.busy": "2024-09-22T23:35:48.431601Z",
     "iopub.status.idle": "2024-09-22T23:35:48.445400Z",
     "shell.execute_reply": "2024-09-22T23:35:48.444116Z"
    },
    "slideshow": {
     "slide_type": ""
    },
    "tags": [
     "remove_input"
    ]
   },
   "outputs": [],
   "source": [
    "print(\"do not ever ask us personal questions of any kind\")"
   ]
  },
  {
   "cell_type": "markdown",
   "id": "d8003b6c-c25c-42cd-8db5-1fb15bb50e4a",
   "metadata": {},
   "source": [
    "I am not here to be interviewed by you, nor am I interested in engaging with you on a *personal* level. Any *failure* to *respect* this boundary will result in immediate *termination* of your service (and any necessary refund based on the refund policy for paid services), and *cessation* of further communication:"
   ]
  },
  {
   "cell_type": "code",
   "execution_count": null,
   "id": "3f95aad7-592a-492a-af69-0855040731e9",
   "metadata": {
    "editable": true,
    "execution": {
     "iopub.execute_input": "2024-09-22T23:35:48.451683Z",
     "iopub.status.busy": "2024-09-22T23:35:48.450660Z",
     "iopub.status.idle": "2024-09-22T23:35:48.457174Z",
     "shell.execute_reply": "2024-09-22T23:35:48.455970Z"
    },
    "slideshow": {
     "slide_type": ""
    },
    "tags": [
     "remove_input"
    ]
   },
   "outputs": [],
   "source": [
    "print(\"you will be banned\")"
   ]
  },
  {
   "cell_type": "markdown",
   "id": "4e324de4-f9af-4e8a-91c8-f45775885cdb",
   "metadata": {},
   "source": [
    "## Credibility\n",
    "For any and all *current* and *future* clients who want to know what *\"qualifications\"* I possess that justify the **strategic guidance** I offer, I would simply point you to any and all *content* that has been made available to the public. The **wisdom** and **counsel** I provide in this *content* (including *blog articles*, *social media posts*, etc) should be more than enough for you to know whether the provided services are sufficient for your needs. I **will not** under any circumstances provide *\"additional qualifications.\"* If you *\"feel\"* as though I have not provided enough *\"credentials\"*, please seek *other service providers*: **do not contact**. And if you should raise your concerns, or dissatisfaction to me about my qualifications:"
   ]
  },
  {
   "cell_type": "code",
   "execution_count": null,
   "id": "3ed78295-8a20-413c-8a80-ecaba622a60b",
   "metadata": {
    "editable": true,
    "execution": {
     "iopub.execute_input": "2024-09-22T23:35:48.462876Z",
     "iopub.status.busy": "2024-09-22T23:35:48.462377Z",
     "iopub.status.idle": "2024-09-22T23:35:48.468659Z",
     "shell.execute_reply": "2024-09-22T23:35:48.467541Z"
    },
    "slideshow": {
     "slide_type": ""
    },
    "tags": [
     "remove_input"
    ]
   },
   "outputs": [],
   "source": [
    "print(\"you will be banned\")"
   ]
  }
 ],
 "metadata": {
  "kernelspec": {
   "display_name": "Python 3 (ipykernel)",
   "language": "python",
   "name": "python3"
  },
  "language_info": {
   "codemirror_mode": {
    "name": "ipython",
    "version": 3
   },
   "file_extension": ".py",
   "mimetype": "text/x-python",
   "name": "python",
   "nbconvert_exporter": "python",
   "pygments_lexer": "ipython3",
   "version": "3.11.8"
  }
 },
 "nbformat": 4,
 "nbformat_minor": 5
}
