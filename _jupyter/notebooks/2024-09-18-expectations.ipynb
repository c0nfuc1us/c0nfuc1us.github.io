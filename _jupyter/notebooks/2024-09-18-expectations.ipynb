{
 "cells": [
  {
   "cell_type": "raw",
   "id": "826139f8-ca06-49eb-b5fa-fd935525e3e2",
   "metadata": {},
   "source": [
    "---\n",
    "layout: article\n",
    "title: Expectations\n",
    "custom_css: article.css\n",
    "include_mathjax: false\n",
    "---"
   ]
  },
  {
   "cell_type": "markdown",
   "id": "cf2c5628-5530-4a06-bbdf-5ed87a9c0c93",
   "metadata": {},
   "source": [
    "## Motivation\n",
    "The purpose of this *article* is to clearly define what anyone we work with (e.g. *potential clients*) can expect from us, and what we *expect* from them. After reading this article, there should be **no doubt** what are the *boundaries* and *expectations* for both parties."
   ]
  },
  {
   "cell_type": "markdown",
   "id": "26112453-1661-4270-9bf8-4a239376a47d",
   "metadata": {},
   "source": [
    "## Strategy NOT Therapy\n",
    "As a **strategic dating consultant** my job is to help people who are **ready** to solve their problems, figure out what are the *optimal* **strategies** and corresponding **tactics** to their *\"dating dilemma.\"* This is very very different from *therapy* and what **therapists** do. If it helps, you can think of me more as the *\"father\"* and the *therapist* more as the *\"mother\"*. You go to the mother to feel *safe*, *secure*, and *loved*. You go to the father when you want to actually learn how to **deal with reality** and the problems you will face.\n",
    "\n",
    "Needless to say, if what you're looking for is *an emotional outlet* or any kind of *emotional support* you **will not** find that here: **do not contact us**."
   ]
  },
  {
   "cell_type": "markdown",
   "id": "e3107565-7bb1-4907-8c2f-fbe27cbcabb7",
   "metadata": {},
   "source": [
    "## Professional Boundaries\n",
    "As your **strategic dating consultant** we are not here to cultivate a *personal relationship* with you. By that, we mean we strictly maintain a **professional** relationship with you at **all times**. While we do want you to succeed in your *romantic endeavors*, and we genuinely wish the best for you, we cannot and will not deviate from our **strictly professional** relationship. You should remain *professional* at all times. This is a boundary that can **never** be crossed. As an example of what would be **unprofessional**: "
   ]
  },
  {
   "cell_type": "code",
   "execution_count": null,
   "id": "fe3c3cb6-63c8-4aa4-9c20-712677bde7fe",
   "metadata": {
    "editable": true,
    "slideshow": {
     "slide_type": ""
    },
    "tags": [
     "remove_input"
    ]
   },
   "outputs": [],
   "source": [
    "print(\"do not ever ask us personal questions of any kind\")"
   ]
  },
  {
   "cell_type": "markdown",
   "id": "d8003b6c-c25c-42cd-8db5-1fb15bb50e4a",
   "metadata": {},
   "source": [
    "We are not here to be interviewed by you, nor are we interested in engaging with you on a *personal* level. Any *failure* to *respect* this boundary **may** result in immediate *termination* of your service (and any necessary refund based on the refund policy for paid services), and *cessation* of further communication:"
   ]
  },
  {
   "cell_type": "code",
   "execution_count": null,
   "id": "3f95aad7-592a-492a-af69-0855040731e9",
   "metadata": {
    "editable": true,
    "slideshow": {
     "slide_type": ""
    },
    "tags": [
     "remove_input"
    ]
   },
   "outputs": [],
   "source": [
    "print(\"you will be banned\")"
   ]
  }
 ],
 "metadata": {
  "kernelspec": {
   "display_name": "Python 3 (ipykernel)",
   "language": "python",
   "name": "python3"
  },
  "language_info": {
   "codemirror_mode": {
    "name": "ipython",
    "version": 3
   },
   "file_extension": ".py",
   "mimetype": "text/x-python",
   "name": "python",
   "nbconvert_exporter": "python",
   "pygments_lexer": "ipython3",
   "version": "3.11.8"
  }
 },
 "nbformat": 4,
 "nbformat_minor": 5
}
