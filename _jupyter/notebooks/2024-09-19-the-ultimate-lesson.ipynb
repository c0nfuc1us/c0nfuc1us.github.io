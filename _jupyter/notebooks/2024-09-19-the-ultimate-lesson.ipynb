{
 "cells": [
  {
   "cell_type": "raw",
   "id": "ed6303b3-5e4c-4c45-95c6-9bb7276a4ef4",
   "metadata": {},
   "source": [
    "---\n",
    "layout: article\n",
    "title: The Ultimate Lesson\n",
    "custom_css: article.css\n",
    "include_mathjax: false\n",
    "---"
   ]
  },
  {
   "cell_type": "markdown",
   "id": "90d87686-251b-4d46-956a-85f72f5871c8",
   "metadata": {},
   "source": [
    "## A Reoccurring Problem"
   ]
  },
  {
   "cell_type": "markdown",
   "id": "42989b96-f0d4-41a4-beff-80a78cce32a0",
   "metadata": {},
   "source": [
    "There is a *strategic mistake* or what you might call a **sin** that, over the years, I have come to understand most people are guilty of:"
   ]
  },
  {
   "cell_type": "code",
   "execution_count": null,
   "id": "c19bbb54-0c64-4211-9ee9-9f1b43b4ee94",
   "metadata": {
    "editable": true,
    "execution": {
     "iopub.execute_input": "2024-09-20T02:07:44.724302Z",
     "iopub.status.busy": "2024-09-20T02:07:44.723949Z",
     "iopub.status.idle": "2024-09-20T02:07:44.734251Z",
     "shell.execute_reply": "2024-09-20T02:07:44.733107Z"
    },
    "slideshow": {
     "slide_type": ""
    },
    "tags": [
     "remove_input"
    ]
   },
   "outputs": [],
   "source": [
    "print(\"their reach exceeds their grasp\")"
   ]
  },
  {
   "cell_type": "markdown",
   "id": "865d0448-b319-4173-9fed-f8cccd211383",
   "metadata": {},
   "source": [
    "Or to put it another way:"
   ]
  },
  {
   "cell_type": "code",
   "execution_count": null,
   "id": "b98ad5db-ac8d-4416-9caf-794ebae4380a",
   "metadata": {
    "editable": true,
    "execution": {
     "iopub.execute_input": "2024-09-20T02:07:44.739677Z",
     "iopub.status.busy": "2024-09-20T02:07:44.739349Z",
     "iopub.status.idle": "2024-09-20T02:07:44.745206Z",
     "shell.execute_reply": "2024-09-20T02:07:44.744014Z"
    },
    "slideshow": {
     "slide_type": ""
    },
    "tags": [
     "remove_input"
    ]
   },
   "outputs": [],
   "source": [
    "print(\"they don't know their place\")"
   ]
  },
  {
   "cell_type": "markdown",
   "id": "871da73e-b94f-4558-b51f-55e3498981e5",
   "metadata": {},
   "source": [
    "While there are things we can change, and certainly there is virtue in pursuing a goal that forces you to grow, there are things that **cannot** and **will not** change. For example: a *peasant* can never truly relate to a *king*, a *tiger* can never truly relate to a *deer*, and you cannot hold the tide with a broom. All this is to say that there are things you cannot change, but more often than not, people lack the *humility* to accept that which cannot change. Instead they are filled with *hubris* and *rapaciousness*, and eventually they are punished for their *\"sin.\"*"
   ]
  },
  {
   "cell_type": "markdown",
   "id": "bba257e7-6274-439a-adbe-70c55a4f384a",
   "metadata": {},
   "source": [
    "## Rapacious Romantics\n",
    "I suspect people experience this **sin** most frequently in their *dating decisions*. Like a child, they fixate on what they want, instead of what they *can grasp*. We see this in many different scenarios:\n",
    "\n",
    "+ The poor boy wanting to date the rich girl\n",
    "+ The homely maiden pining for the handsome prince\n",
    "+ The *\"fan\"* lusting for the *celebrity*\n",
    "\n",
    "These are but a *few* examples of this common behavior, and what they all share is a **greed** for that which *\"exceeds their grasp.\"*"
   ]
  },
  {
   "cell_type": "markdown",
   "id": "2fa68efe-d26d-447e-9cee-c7098288550c",
   "metadata": {},
   "source": [
    "## Knowing Your Match\n",
    "None of these examples listed above are a *\"match\"*:\n",
    "\n",
    "+ A *poor boy* does *not match* with a rich girl\n",
    "+ A *homely maiden* does *not match* with a *handsome prince*\n",
    "+ A *\"fan\"* can never match a *celebrity*\n",
    "\n",
    "This is where we begin to confront the hard truth about life in general and dating specifically:"
   ]
  },
  {
   "cell_type": "code",
   "execution_count": null,
   "id": "7268e4c5-b098-472c-a7dc-ecba65ff379a",
   "metadata": {
    "editable": true,
    "execution": {
     "iopub.execute_input": "2024-09-20T02:07:44.751579Z",
     "iopub.status.busy": "2024-09-20T02:07:44.751105Z",
     "iopub.status.idle": "2024-09-20T02:07:44.757727Z",
     "shell.execute_reply": "2024-09-20T02:07:44.756538Z"
    },
    "slideshow": {
     "slide_type": ""
    },
    "tags": [
     "remove_input"
    ]
   },
   "outputs": [],
   "source": [
    "print(\"it's not about what YOU want\")"
   ]
  },
  {
   "cell_type": "markdown",
   "id": "45905b1b-4803-49f1-810d-1762594e3a7c",
   "metadata": {
    "editable": true,
    "slideshow": {
     "slide_type": ""
    },
    "tags": []
   },
   "source": [
    "What I mean is, you cannot **FORCE** a match. The *poor boy* might *wish* and *want* to be the target of the *rich girl's* affection, but he can never match her status, her wealth, or anything else about her life. He can maybe be her servant, and possibly enjoy some occasional magnanimous act, but he can never be her **equal** in love. This is exactly the plot of the *Disney* version of *Aladdin*, which is simply *fantasy* and unfortunately feeds the *delusion* that your *economic background* does not matter.\n",
    "\n",
    "If we continue with the *example* of *Aladdin*, you might ask: *\"then who matches Aladdin if not the Princess Jasmine?\"* The answer is simple:"
   ]
  },
  {
   "cell_type": "code",
   "execution_count": null,
   "id": "026cf688-0668-4632-a8d2-96ac53c43813",
   "metadata": {
    "editable": true,
    "execution": {
     "iopub.execute_input": "2024-09-20T02:07:44.763608Z",
     "iopub.status.busy": "2024-09-20T02:07:44.763135Z",
     "iopub.status.idle": "2024-09-20T02:07:44.769810Z",
     "shell.execute_reply": "2024-09-20T02:07:44.768597Z"
    },
    "slideshow": {
     "slide_type": ""
    },
    "tags": [
     "remove_input"
    ]
   },
   "outputs": [],
   "source": [
    "print(\"like attracts like\")"
   ]
  },
  {
   "cell_type": "markdown",
   "id": "33a9c4dd-3279-4327-9d37-6f5afec7b638",
   "metadata": {},
   "source": [
    "Simply put, it's someone who is **objectively** similar to *Aladdin*. Someone who comes from a similar background (e.g. also an orphan, runaway, etc), someone as feisty and stubborn as he, and someone seeking a better life. The reality is the *Princess Jasmine* character would **NEVER** relate to *Aladdin* even if she wanted to (which really deep down inside, when she's honest with herself, she doesn't). And why would she really want to relate to *Aladdin*? Out of pity? Mercy? Those are not the motivations of someone seeking an *equal* (which *Aladdin* can never be)."
   ]
  },
  {
   "cell_type": "markdown",
   "id": "76960a84-af67-47da-b9da-806f2dd2e3ac",
   "metadata": {},
   "source": [
    "## A Place for Everything and Everything in Its Place\n",
    "The truth is real success in life, including dating, comes from understanding **your place**: where you belong, where you do not belong, and who belongs in what role/place in **your life**. *Aladdin* will always be that noble, brave, and kind *\"street rat\"* who is the *\"diamond in the rough\"*, even with his new found wealth acquired from the *Genie of the Lamp* this cannot be changed. And while they do depict *Princess Jasmine* as being tough, kind, and noble like *Aladdin*, she can never relate to his life, and this is a **fundamental chasm** that cannot be crossed: she cannot be his *\"equal.\"*\n",
    "\n",
    "It is actually **irresponsible** for both parties to attempt to pursue a relationship that *does not match*: they **forget** their place. And in reality they would both suffer for their *irresponsibility*. It is when we take the *hard path* of maturity and wisdom, embracing **our place** in someone's life and **their place** in ours, which is *responsible* and **right**, that we can finally succeed in life, and in dating. *Princess Jasmine* needs to find an *actual Prince* that, like her grew up in a palace, and understands that life style and all the *trappings* that come with it. And *Aladdin* needs to find that *feisty*, *noble*, *kind*, *courageous*, *\"street rat\"* like himself that is also the *\"diamond in the rough*.\" That is their respective matches, and there is no amount of *wanting* or *\"magic genies\"* that can change that simple reality:"
   ]
  },
  {
   "cell_type": "code",
   "execution_count": null,
   "id": "a694645f-4a23-45a6-97ab-eb3f8a67c1c6",
   "metadata": {
    "editable": true,
    "execution": {
     "iopub.execute_input": "2024-09-20T02:07:44.775931Z",
     "iopub.status.busy": "2024-09-20T02:07:44.775439Z",
     "iopub.status.idle": "2024-09-20T02:07:44.782042Z",
     "shell.execute_reply": "2024-09-20T02:07:44.780811Z"
    },
    "slideshow": {
     "slide_type": ""
    },
    "tags": [
     "remove_input"
    ]
   },
   "outputs": [],
   "source": [
    "print(\"we do not control who is our match\")"
   ]
  },
  {
   "cell_type": "markdown",
   "id": "04cc5c4c-2f72-4ad4-a512-d0b5cf2f5789",
   "metadata": {},
   "source": [
    "## Moral\n",
    "Rapaciousness runs *rampant* in the modern world. But the irony of it all is that *\"grasping\"* that which is **beyond your place** (like *Aladdin* pining for *Princess Jasmine*) does not lead to a *\"happily ever after\"*, but instead more suffering. It is actually when we **embrace** who we are, *\"our place\"* in the world and *\"our role\"* in the lives of others, and *\"their role\"* in our life, that we actually can achieve that long sought after dream: *happiness*, *peace*, and *contentment*.\n",
    "\n",
    "But be warned, if you **forget** your place, you will come to understand the meaning of the age old adage:"
   ]
  },
  {
   "cell_type": "code",
   "execution_count": null,
   "id": "7485e869-7205-4d81-a2ed-b145e955d0fc",
   "metadata": {
    "editable": true,
    "execution": {
     "iopub.execute_input": "2024-09-20T02:07:44.787938Z",
     "iopub.status.busy": "2024-09-20T02:07:44.787440Z",
     "iopub.status.idle": "2024-09-20T02:07:44.794164Z",
     "shell.execute_reply": "2024-09-20T02:07:44.792935Z"
    },
    "slideshow": {
     "slide_type": ""
    },
    "tags": [
     "remove_input"
    ]
   },
   "outputs": [],
   "source": [
    "print(\"be careful what you wish for\")"
   ]
  }
 ],
 "metadata": {
  "kernelspec": {
   "display_name": "Python 3 (ipykernel)",
   "language": "python",
   "name": "python3"
  },
  "language_info": {
   "codemirror_mode": {
    "name": "ipython",
    "version": 3
   },
   "file_extension": ".py",
   "mimetype": "text/x-python",
   "name": "python",
   "nbconvert_exporter": "python",
   "pygments_lexer": "ipython3",
   "version": "3.11.8"
  }
 },
 "nbformat": 4,
 "nbformat_minor": 5
}
