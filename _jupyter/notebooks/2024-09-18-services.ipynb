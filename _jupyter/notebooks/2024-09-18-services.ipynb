{
 "cells": [
  {
   "cell_type": "raw",
   "id": "e54dc797-c1d6-492c-ba64-db9d846d2d94",
   "metadata": {},
   "source": [
    "---\n",
    "layout: article\n",
    "title: Services\n",
    "custom_css: article.css\n",
    "include_mathjax: false\n",
    "---"
   ]
  },
  {
   "cell_type": "markdown",
   "id": "f9eed903-b089-4834-9507-eca0e4037755",
   "metadata": {},
   "source": [
    "## Motivation\n",
    "The purpose of this article is to layout the *various* **strategic dating consultant** services offered."
   ]
  },
  {
   "cell_type": "markdown",
   "id": "64383a75-9422-415d-af7d-707b45923453",
   "metadata": {},
   "source": [
    "## A Note on Beta Services\n",
    "Any service designated as *\"beta\"*, is a service that is in the process of being *\"developed\"* and does not require *monetary payment*. You can think of it as a *\"free trial\"*, where *qualified* applicants can apply by filling out the [contact form](https://thestrategyofdating.com/contact/). Bare in mind, while you are not required to pay for these services (assuming you *qualify*), you are required to consent to the terms of the [Beta Service Agreement](#beta-service-agreement)."
   ]
  },
  {
   "cell_type": "markdown",
   "id": "3d65812a-e0c1-45d6-ac28-0797a68037df",
   "metadata": {},
   "source": [
    "## Beta Service Agreement\n",
    "This Beta Service Agreement (\"Agreement\") is made between **The Strategy of Dating** (\"Company\") and the undersigned user (\"User\") for participation in the Beta testing of the Company's service (\"Beta Service\"). By participating in the Beta Service, the User agrees to the following terms and conditions:\n",
    "\n",
    "+ **No Payment**: The Beta Service is provided at no cost to the User. Participation is entirely voluntary and does\n",
    "  not constitute any form of compensation or contractual obligation on behalf of the Company.\n",
    "<br><br>\n",
    "+ **Use of Feedback and Information**:\n",
    "    <br><br>\n",
    "    **a**. The User agrees that the Company may use any and all feedback, suggestions,\n",
    "    ideas, or information shared by the User during the Beta testing period for the improvement, development, and\n",
    "    promotion of the Beta Service.\n",
    "    <br><br>\n",
    "    **b**. The User consents to the use of non-personally identifiable information (excluding private information\n",
    "    such as names, telephone numbers, addresses, and other sensitive data) for promotional purposes, including but\n",
    "    not limited to blog articles, social media posts, case studies, and other marketing materials.\n",
    "    <br><br>\n",
    "    **c**. The User understands that the Company will anonymize or aggregate any personally identifiable\n",
    "    information before using it in any public-facing promotional material.\n",
    "    <br><br>\n",
    "+ **Confidentiality**: The User acknowledges that the Beta Service and all related materials are proprietary to the\n",
    "  Company and may contain confidential information. The User agrees not to disclose, share, or otherwise distribute\n",
    "  any confidential information regarding the Beta Service without the prior written consent of the Company.\n",
    "<br><br>\n",
    "+ **No Warranties**: The Beta Service is provided \"as-is\" and without any warranties, express or implied. The\n",
    "  Company makes no guarantee as to the functionality, availability, or reliability of the Beta Service during the\n",
    "  testing period.\n",
    "<br><br>\n",
    "+ **Termination**: The Company reserves the right to terminate the User's participation in the Beta Service at any\n",
    "  time, for any reason, without notice.\n",
    "<br><br>\n",
    "+ **Limitation of Liability**: The User agrees that the Company shall not be liable for any damages, losses, or\n",
    "  claims arising from participation in the Beta Service, including but not limited to data loss, service\n",
    "  interruptions, or any other issues related to the use of the Beta Service."
   ]
  }
 ],
 "metadata": {
  "kernelspec": {
   "display_name": "Python 3 (ipykernel)",
   "language": "python",
   "name": "python3"
  },
  "language_info": {
   "codemirror_mode": {
    "name": "ipython",
    "version": 3
   },
   "file_extension": ".py",
   "mimetype": "text/x-python",
   "name": "python",
   "nbconvert_exporter": "python",
   "pygments_lexer": "ipython3",
   "version": "3.11.8"
  }
 },
 "nbformat": 4,
 "nbformat_minor": 5
}
