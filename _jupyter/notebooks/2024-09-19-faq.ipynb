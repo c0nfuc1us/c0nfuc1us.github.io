{
 "cells": [
  {
   "cell_type": "raw",
   "id": "939c29e6-5e7a-47a5-8130-7d37f8eb91dd",
   "metadata": {},
   "source": [
    "---\n",
    "layout: article\n",
    "title: FAQ\n",
    "custom_css: article.css\n",
    "include_mathjax: false\n",
    "---"
   ]
  },
  {
   "cell_type": "markdown",
   "id": "6ef4ab61-7181-4560-b4dd-d5e51f4f8280",
   "metadata": {},
   "source": [
    "## Motivation\n",
    "The goal of this *article* is to lay out some *common questions* and provide *definitive answers*."
   ]
  }
 ],
 "metadata": {
  "kernelspec": {
   "display_name": "Python 3 (ipykernel)",
   "language": "python",
   "name": "python3"
  },
  "language_info": {
   "codemirror_mode": {
    "name": "ipython",
    "version": 3
   },
   "file_extension": ".py",
   "mimetype": "text/x-python",
   "name": "python",
   "nbconvert_exporter": "python",
   "pygments_lexer": "ipython3",
   "version": "3.11.8"
  }
 },
 "nbformat": 4,
 "nbformat_minor": 5
}
