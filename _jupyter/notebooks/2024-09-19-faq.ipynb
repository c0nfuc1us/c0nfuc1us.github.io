{
 "cells": [
  {
   "cell_type": "raw",
   "id": "939c29e6-5e7a-47a5-8130-7d37f8eb91dd",
   "metadata": {},
   "source": [
    "---\n",
    "layout: article\n",
    "title: FAQ\n",
    "custom_css: article.css\n",
    "include_mathjax: false\n",
    "---"
   ]
  },
  {
   "cell_type": "markdown",
   "id": "6ef4ab61-7181-4560-b4dd-d5e51f4f8280",
   "metadata": {},
   "source": [
    "## Motivation\n",
    "The goal of this *article* is to lay out some *common questions* and provide *definitive answers*."
   ]
  },
  {
   "cell_type": "markdown",
   "id": "bc068f75-cb9a-4e93-ab39-68594178f7bd",
   "metadata": {},
   "source": [
    "## Contact Form Information\n",
    "You might be wondering why the [Contact Form](https://thestrategyofdating.com/contact/) requires so much information? The *simple* and *short* answer:"
   ]
  },
  {
   "cell_type": "code",
   "execution_count": null,
   "id": "19dc0ff1-7517-45c6-b3a8-f250c94afae2",
   "metadata": {
    "editable": true,
    "execution": {
     "iopub.execute_input": "2024-09-21T20:16:21.835523Z",
     "iopub.status.busy": "2024-09-21T20:16:21.835082Z",
     "iopub.status.idle": "2024-09-21T20:16:21.847918Z",
     "shell.execute_reply": "2024-09-21T20:16:21.846493Z"
    },
    "slideshow": {
     "slide_type": ""
    },
    "tags": [
     "remove_input"
    ]
   },
   "outputs": [],
   "source": [
    "print(\"the more information, the more precise the solution\")"
   ]
  },
  {
   "cell_type": "markdown",
   "id": "046e2e2d-5dab-4acb-80f3-97b61a304683",
   "metadata": {},
   "source": [
    "It's similar to the process a *Physician* goes through when they are attempting to *\"diagnose\"* an illness in a patient. The more information you give them, the more they can *narrow* the scope of possible causes. For our purposes, the more information you can tell me about yourself, and the problem you desire to resolve, the easier it is for me to give you an **accurate solution**."
   ]
  }
 ],
 "metadata": {
  "kernelspec": {
   "display_name": "Python 3 (ipykernel)",
   "language": "python",
   "name": "python3"
  },
  "language_info": {
   "codemirror_mode": {
    "name": "ipython",
    "version": 3
   },
   "file_extension": ".py",
   "mimetype": "text/x-python",
   "name": "python",
   "nbconvert_exporter": "python",
   "pygments_lexer": "ipython3",
   "version": "3.11.8"
  }
 },
 "nbformat": 4,
 "nbformat_minor": 5
}
